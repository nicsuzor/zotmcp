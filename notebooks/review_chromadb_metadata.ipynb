{
 "cells": [
  {
   "cell_type": "markdown",
   "metadata": {},
   "source": [
    "# ChromaDB Metadata Review for ZotMCP\n",
    "\n",
    "This notebook reviews the metadata stored in ChromaDB for Zotero items and compares it with available Zotero API fields.\n",
    "\n",
    "## Goals:\n",
    "1. Initialize buttermilk with zotero configuration\n",
    "2. Query ChromaDB to inspect stored metadata\n",
    "3. Identify which Zotero fields are currently stored\n",
    "4. Compare with available Zotero API fields\n",
    "5. Document missing citation fields"
   ]
  },
  {
   "cell_type": "markdown",
   "metadata": {},
   "source": [
    "## 1. Initialize Buttermilk with Zotero Config"
   ]
  },
  {
   "cell_type": "code",
   "execution_count": 1,
   "metadata": {},
   "outputs": [
    {
     "name": "stderr",
     "output_type": "stream",
     "text": [
      "/home/nic/src/writing/.venv/lib/python3.12/site-packages/pydantic/_internal/_generate_schema.py:2249: UnsupportedFieldAttributeWarning: The 'repr' attribute with value False was provided to the `Field()` function, which has no effect in the context it was used. 'repr' is field-specific metadata, and can only be attached to a model field using `Annotated` metadata or by assignment. This may have happened because an `Annotated` type alias using the `type` statement was used, or if the `Field()` function was attached to a single member of a union type.\n",
      "  warnings.warn(\n",
      "/home/nic/src/writing/.venv/lib/python3.12/site-packages/pydantic/_internal/_generate_schema.py:2249: UnsupportedFieldAttributeWarning: The 'frozen' attribute with value True was provided to the `Field()` function, which has no effect in the context it was used. 'frozen' is field-specific metadata, and can only be attached to a model field using `Annotated` metadata or by assignment. This may have happened because an `Annotated` type alias using the `type` statement was used, or if the `Field()` function was attached to a single member of a union type.\n",
      "  warnings.warn(\n"
     ]
    },
    {
     "data": {
      "text/html": [
       "<pre style=\"white-space:pre;overflow-x:auto;line-height:normal;font-family:Menlo,'DejaVu Sans Mono',consolas,'Courier New',monospace\"><span style=\"color: #7fbfbf; text-decoration-color: #7fbfbf\">[10/08/2025 03:55:28 PM] </span><span style=\"color: #000080; text-decoration-color: #000080\">INFO    </span> Log file created at <span style=\"color: #800080; text-decoration-color: #800080\">/tmp/</span><span style=\"color: #ff00ff; text-decoration-color: #ff00ff\">buttermilk_exec-20251008T0555Z-jtm7-nicwin-nic.jsonl</span>    \n",
       "</pre>\n"
      ],
      "text/plain": [
       "\u001b[2;36m[10/08/2025 03:55:28 PM]\u001b[0m\u001b[2;36m \u001b[0m\u001b[34mINFO    \u001b[0m Log file created at \u001b[35m/tmp/\u001b[0m\u001b[95mbuttermilk_exec-20251008T0555Z-jtm7-nicwin-nic.jsonl\u001b[0m    \n"
      ]
     },
     "metadata": {},
     "output_type": "display_data"
    },
    {
     "data": {
      "text/html": [
       "<pre style=\"white-space:pre;overflow-x:auto;line-height:normal;font-family:Menlo,'DejaVu Sans Mono',consolas,'Courier New',monospace\"><span style=\"color: #7fbfbf; text-decoration-color: #7fbfbf\">                         </span><span style=\"color: #000080; text-decoration-color: #000080\">INFO    </span> ExecutionContext logging enabled                                                 \n",
       "</pre>\n"
      ],
      "text/plain": [
       "\u001b[2;36m                        \u001b[0m\u001b[2;36m \u001b[0m\u001b[34mINFO    \u001b[0m ExecutionContext logging enabled                                                 \n"
      ]
     },
     "metadata": {},
     "output_type": "display_data"
    },
    {
     "data": {
      "text/html": [
       "<pre style=\"white-space:pre;overflow-x:auto;line-height:normal;font-family:Menlo,'DejaVu Sans Mono',consolas,'Courier New',monospace\"><span style=\"color: #7fbfbf; text-decoration-color: #7fbfbf\">                         </span><span style=\"color: #000080; text-decoration-color: #000080\">INFO    </span> ExecutionContext logging initialized                                             \n",
       "</pre>\n"
      ],
      "text/plain": [
       "\u001b[2;36m                        \u001b[0m\u001b[2;36m \u001b[0m\u001b[34mINFO    \u001b[0m ExecutionContext logging initialized                                             \n"
      ]
     },
     "metadata": {},
     "output_type": "display_data"
    },
    {
     "data": {
      "text/html": [
       "<pre style=\"white-space:pre;overflow-x:auto;line-height:normal;font-family:Menlo,'DejaVu Sans Mono',consolas,'Courier New',monospace\"><span style=\"color: #7fbfbf; text-decoration-color: #7fbfbf\">                         </span><span style=\"color: #000080; text-decoration-color: #000080\">INFO    </span> Initialized Vertex AI: <span style=\"color: #808000; text-decoration-color: #808000\">project</span>=<span style=\"color: #800080; text-decoration-color: #800080\">prosocial</span>-<span style=\"color: #008080; text-decoration-color: #008080; font-weight: bold\">443205</span>, <span style=\"color: #808000; text-decoration-color: #808000\">location</span>=<span style=\"color: #800080; text-decoration-color: #800080\">us</span>-central1            \n",
       "</pre>\n"
      ],
      "text/plain": [
       "\u001b[2;36m                        \u001b[0m\u001b[2;36m \u001b[0m\u001b[34mINFO    \u001b[0m Initialized Vertex AI: \u001b[33mproject\u001b[0m=\u001b[35mprosocial\u001b[0m-\u001b[1;36m443205\u001b[0m, \u001b[33mlocation\u001b[0m=\u001b[35mus\u001b[0m-central1            \n"
      ]
     },
     "metadata": {},
     "output_type": "display_data"
    },
    {
     "data": {
      "text/html": [
       "<pre style=\"white-space:pre;overflow-x:auto;line-height:normal;font-family:Menlo,'DejaVu Sans Mono',consolas,'Courier New',monospace\"><span style=\"color: #7fbfbf; text-decoration-color: #7fbfbf\">                         </span><span style=\"color: #000080; text-decoration-color: #000080\">INFO    </span> ExecutionContext initialization completed                                        \n",
       "</pre>\n"
      ],
      "text/plain": [
       "\u001b[2;36m                        \u001b[0m\u001b[2;36m \u001b[0m\u001b[34mINFO    \u001b[0m ExecutionContext initialization completed                                        \n"
      ]
     },
     "metadata": {},
     "output_type": "display_data"
    },
    {
     "data": {
      "text/html": [
       "<pre style=\"white-space:pre;overflow-x:auto;line-height:normal;font-family:Menlo,'DejaVu Sans Mono',consolas,'Courier New',monospace\"><span style=\"color: #7fbfbf; text-decoration-color: #7fbfbf\">                         </span><span style=\"color: #000080; text-decoration-color: #000080\">INFO    </span> Initialized ExecutionContext                                                     \n",
       "</pre>\n"
      ],
      "text/plain": [
       "\u001b[2;36m                        \u001b[0m\u001b[2;36m \u001b[0m\u001b[34mINFO    \u001b[0m Initialized ExecutionContext                                                     \n"
      ]
     },
     "metadata": {},
     "output_type": "display_data"
    },
    {
     "data": {
      "text/html": [
       "<pre style=\"white-space:pre;overflow-x:auto;line-height:normal;font-family:Menlo,'DejaVu Sans Mono',consolas,'Courier New',monospace\"><span style=\"color: #7fbfbf; text-decoration-color: #7fbfbf\">                         </span><span style=\"color: #000080; text-decoration-color: #000080\">INFO    </span> ExecutionContext created with full infrastructure configuration                  \n",
       "</pre>\n"
      ],
      "text/plain": [
       "\u001b[2;36m                        \u001b[0m\u001b[2;36m \u001b[0m\u001b[34mINFO    \u001b[0m ExecutionContext created with full infrastructure configuration                  \n"
      ]
     },
     "metadata": {},
     "output_type": "display_data"
    },
    {
     "data": {
      "text/html": [
       "<pre style=\"white-space:pre;overflow-x:auto;line-height:normal;font-family:Menlo,'DejaVu Sans Mono',consolas,'Courier New',monospace\"><span style=\"color: #7fbfbf; text-decoration-color: #7fbfbf\">                         </span><span style=\"color: #000080; text-decoration-color: #000080\">INFO    </span> Tracing providers initialized successfully                                       \n",
       "</pre>\n"
      ],
      "text/plain": [
       "\u001b[2;36m                        \u001b[0m\u001b[2;36m \u001b[0m\u001b[34mINFO    \u001b[0m Tracing providers initialized successfully                                       \n"
      ]
     },
     "metadata": {},
     "output_type": "display_data"
    },
    {
     "data": {
      "text/html": [
       "<pre style=\"white-space:pre;overflow-x:auto;line-height:normal;font-family:Menlo,'DejaVu Sans Mono',consolas,'Courier New',monospace\"><span style=\"color: #7fbfbf; text-decoration-color: #7fbfbf\">                         </span><span style=\"color: #000080; text-decoration-color: #000080\">INFO    </span> Full application context bootstrap complete                                      \n",
       "</pre>\n"
      ],
      "text/plain": [
       "\u001b[2;36m                        \u001b[0m\u001b[2;36m \u001b[0m\u001b[34mINFO    \u001b[0m Full application context bootstrap complete                                      \n"
      ]
     },
     "metadata": {},
     "output_type": "display_data"
    },
    {
     "data": {
      "text/html": [
       "<pre style=\"white-space:pre;overflow-x:auto;line-height:normal;font-family:Menlo,'DejaVu Sans Mono',consolas,'Courier New',monospace\"><span style=\"color: #7fbfbf; text-decoration-color: #7fbfbf\">                         </span><span style=\"color: #000080; text-decoration-color: #000080\">INFO    </span> Bootstrapping session context                                                    \n",
       "</pre>\n"
      ],
      "text/plain": [
       "\u001b[2;36m                        \u001b[0m\u001b[2;36m \u001b[0m\u001b[34mINFO    \u001b[0m Bootstrapping session context                                                    \n"
      ]
     },
     "metadata": {},
     "output_type": "display_data"
    },
    {
     "name": "stderr",
     "output_type": "stream",
     "text": [
      "WARNING: All log messages before absl::InitializeLog() is called are written to STDERR\n",
      "E0000 00:00:1759902929.277978 1435097 alts_credentials.cc:93] ALTS creds ignored. Not running on GCP and untrusted ALTS is not enabled.\n"
     ]
    },
    {
     "data": {
      "text/html": [
       "<pre style=\"white-space:pre;overflow-x:auto;line-height:normal;font-family:Menlo,'DejaVu Sans Mono',consolas,'Courier New',monospace\"><span style=\"color: #7fbfbf; text-decoration-color: #7fbfbf\">[10/08/2025 03:55:30 PM] </span><span style=\"color: #000080; text-decoration-color: #000080\">INFO    </span> Loaded LLM connections from secret manager                                       \n",
       "</pre>\n"
      ],
      "text/plain": [
       "\u001b[2;36m[10/08/2025 03:55:30 PM]\u001b[0m\u001b[2;36m \u001b[0m\u001b[34mINFO    \u001b[0m Loaded LLM connections from secret manager                                       \n"
      ]
     },
     "metadata": {},
     "output_type": "display_data"
    },
    {
     "data": {
      "text/html": [
       "<pre style=\"white-space:pre;overflow-x:auto;line-height:normal;font-family:Menlo,'DejaVu Sans Mono',consolas,'Courier New',monospace\"><span style=\"color: #7fbfbf; text-decoration-color: #7fbfbf\">                         </span><span style=\"color: #000080; text-decoration-color: #000080\">INFO    </span> Caching LLM connections                                                          \n",
       "</pre>\n"
      ],
      "text/plain": [
       "\u001b[2;36m                        \u001b[0m\u001b[2;36m \u001b[0m\u001b[34mINFO    \u001b[0m Caching LLM connections                                                          \n"
      ]
     },
     "metadata": {},
     "output_type": "display_data"
    },
    {
     "data": {
      "text/html": [
       "<pre style=\"white-space:pre;overflow-x:auto;line-height:normal;font-family:Menlo,'DejaVu Sans Mono',consolas,'Courier New',monospace\"><span style=\"color: #7fbfbf; text-decoration-color: #7fbfbf\">                         </span><span style=\"color: #000080; text-decoration-color: #000080\">INFO    </span> Cloud logging configured for session                                             \n",
       "</pre>\n"
      ],
      "text/plain": [
       "\u001b[2;36m                        \u001b[0m\u001b[2;36m \u001b[0m\u001b[34mINFO    \u001b[0m Cloud logging configured for session                                             \n"
      ]
     },
     "metadata": {},
     "output_type": "display_data"
    },
    {
     "data": {
      "text/html": [
       "<pre style=\"white-space:pre;overflow-x:auto;line-height:normal;font-family:Menlo,'DejaVu Sans Mono',consolas,'Courier New',monospace\"><span style=\"color: #7fbfbf; text-decoration-color: #7fbfbf\">                         </span><span style=\"color: #000080; text-decoration-color: #000080\">INFO    </span> Session logging context established                                              \n",
       "</pre>\n"
      ],
      "text/plain": [
       "\u001b[2;36m                        \u001b[0m\u001b[2;36m \u001b[0m\u001b[34mINFO    \u001b[0m Session logging context established                                              \n"
      ]
     },
     "metadata": {},
     "output_type": "display_data"
    },
    {
     "data": {
      "text/html": [
       "<pre style=\"white-space:pre;overflow-x:auto;line-height:normal;font-family:Menlo,'DejaVu Sans Mono',consolas,'Courier New',monospace\"><span style=\"color: #7fbfbf; text-decoration-color: #7fbfbf\">                         </span><span style=\"color: #000080; text-decoration-color: #000080\">INFO    </span> Session initialized successfully                                                 \n",
       "</pre>\n"
      ],
      "text/plain": [
       "\u001b[2;36m                        \u001b[0m\u001b[2;36m \u001b[0m\u001b[34mINFO    \u001b[0m Session initialized successfully                                                 \n"
      ]
     },
     "metadata": {},
     "output_type": "display_data"
    },
    {
     "data": {
      "text/html": [
       "<pre style=\"white-space:pre;overflow-x:auto;line-height:normal;font-family:Menlo,'DejaVu Sans Mono',consolas,'Courier New',monospace\"><span style=\"color: #7fbfbf; text-decoration-color: #7fbfbf\">                         </span><span style=\"color: #000080; text-decoration-color: #000080\">INFO    </span> Session context bootstrap complete: session-20251008T0555Z-4qpD-nicwin-nic       \n",
       "</pre>\n"
      ],
      "text/plain": [
       "\u001b[2;36m                        \u001b[0m\u001b[2;36m \u001b[0m\u001b[34mINFO    \u001b[0m Session context bootstrap complete: session-20251008T0555Z-4qpD-nicwin-nic       \n"
      ]
     },
     "metadata": {},
     "output_type": "display_data"
    },
    {
     "data": {
      "text/html": [
       "<pre style=\"white-space:pre;overflow-x:auto;line-height:normal;font-family:Menlo,'DejaVu Sans Mono',consolas,'Courier New',monospace\"><span style=\"color: #7fbfbf; text-decoration-color: #7fbfbf\">                         </span><span style=\"color: #000080; text-decoration-color: #000080\">INFO    </span> Starting cli run for zotmcp job mcp_server                                       \n",
       "</pre>\n"
      ],
      "text/plain": [
       "\u001b[2;36m                        \u001b[0m\u001b[2;36m \u001b[0m\u001b[34mINFO    \u001b[0m Starting cli run for zotmcp job mcp_server                                       \n"
      ]
     },
     "metadata": {},
     "output_type": "display_data"
    },
    {
     "name": "stdout",
     "output_type": "stream",
     "text": [
      "Buttermilk initialized\n",
      "Config dir: /home/nic/src/writing/projects/zotmcp/conf\n",
      "\n",
      "Storage config:\n",
      "{'type': 'chromadb', 'collection_name': 'prosocial_zot', 'persist_directory': '/home/nic/src/writing/projects/zotmcp/.cache/zotero-prosocial-fulltext/files', 'embedding_model': 'gemini-embedding-001', 'dimensionality': 3072}\n"
     ]
    }
   ],
   "source": [
    "import sys\n",
    "import json\n",
    "from pathlib import Path\n",
    "from pprint import pprint\n",
    "\n",
    "# Add project root to path for imports\n",
    "project_root = Path.cwd() / \"projects\" / \"zotmcp\"\n",
    "sys.path.insert(0, str(project_root / \"src\"))\n",
    "conf_dir = str(project_root / \"conf\")\n",
    "\n",
    "# Import buttermilk\n",
    "from buttermilk import init_async\n",
    "from buttermilk.tools import (\n",
    "    ChromaDBSearchTool,\n",
    ")\n",
    "\n",
    "# Initialize buttermilk with zotero config\n",
    "bm = await init_async(config_dir=conf_dir, config_name=\"zotero\")\n",
    "\n",
    "print(f\"Buttermilk initialized\")\n",
    "print(f\"Config dir: {conf_dir}\")\n",
    "print(f\"\\nStorage config:\")\n",
    "pprint(bm.cfg.storage.zotero_vectors)\n"
   ]
  },
  {
   "cell_type": "markdown",
   "metadata": {},
   "source": [
    "## 2. Connect to ChromaDB and Get Sample Documents"
   ]
  },
  {
   "cell_type": "code",
   "execution_count": 2,
   "metadata": {},
   "outputs": [
    {
     "data": {
      "text/html": [
       "<pre style=\"white-space:pre;overflow-x:auto;line-height:normal;font-family:Menlo,'DejaVu Sans Mono',consolas,'Courier New',monospace\"><span style=\"color: #7fbfbf; text-decoration-color: #7fbfbf\">[10/08/2025 03:55:37 PM] </span><span style=\"color: #000080; text-decoration-color: #000080\">INFO    </span> Loading embedding model: gemini-embedding-<span style=\"color: #008080; text-decoration-color: #008080; font-weight: bold\">001</span>                                    \n",
       "</pre>\n"
      ],
      "text/plain": [
       "\u001b[2;36m[10/08/2025 03:55:37 PM]\u001b[0m\u001b[2;36m \u001b[0m\u001b[34mINFO    \u001b[0m Loading embedding model: gemini-embedding-\u001b[1;36m001\u001b[0m                                    \n"
      ]
     },
     "metadata": {},
     "output_type": "display_data"
    },
    {
     "data": {
      "text/html": [
       "<pre style=\"white-space:pre;overflow-x:auto;line-height:normal;font-family:Menlo,'DejaVu Sans Mono',consolas,'Courier New',monospace\"><span style=\"color: #7fbfbf; text-decoration-color: #7fbfbf\">[10/08/2025 03:55:38 PM] </span><span style=\"color: #000080; text-decoration-color: #000080\">INFO    </span> 🔄 Embedding retry configured: <span style=\"color: #008080; text-decoration-color: #008080; font-weight: bold\">5</span> retries, <span style=\"color: #008080; text-decoration-color: #008080; font-weight: bold\">1.0</span>-<span style=\"color: #008080; text-decoration-color: #008080; font-weight: bold\">120.</span>0s backoff                     \n",
       "</pre>\n"
      ],
      "text/plain": [
       "\u001b[2;36m[10/08/2025 03:55:38 PM]\u001b[0m\u001b[2;36m \u001b[0m\u001b[34mINFO    \u001b[0m 🔄 Embedding retry configured: \u001b[1;36m5\u001b[0m retries, \u001b[1;36m1.0\u001b[0m-\u001b[1;36m120.\u001b[0m0s backoff                     \n"
      ]
     },
     "metadata": {},
     "output_type": "display_data"
    },
    {
     "data": {
      "text/html": [
       "<pre style=\"white-space:pre;overflow-x:auto;line-height:normal;font-family:Menlo,'DejaVu Sans Mono',consolas,'Courier New',monospace\"><span style=\"color: #7fbfbf; text-decoration-color: #7fbfbf\">                         </span><span style=\"color: #000080; text-decoration-color: #000080\">INFO    </span> Initializing ChromaDB client at:                                                 \n",
       "<span style=\"color: #7fbfbf; text-decoration-color: #7fbfbf\">                         </span>         <span style=\"color: #800080; text-decoration-color: #800080\">/home/nic/src/writing/projects/zotmcp/.cache/zotero-prosocial-fulltext/</span><span style=\"color: #ff00ff; text-decoration-color: #ff00ff\">files</span>     \n",
       "</pre>\n"
      ],
      "text/plain": [
       "\u001b[2;36m                        \u001b[0m\u001b[2;36m \u001b[0m\u001b[34mINFO    \u001b[0m Initializing ChromaDB client at:                                                 \n",
       "\u001b[2;36m                         \u001b[0m         \u001b[35m/home/nic/src/writing/projects/zotmcp/.cache/zotero-prosocial-fulltext/\u001b[0m\u001b[95mfiles\u001b[0m     \n"
      ]
     },
     "metadata": {},
     "output_type": "display_data"
    },
    {
     "data": {
      "text/html": [
       "<pre style=\"white-space:pre;overflow-x:auto;line-height:normal;font-family:Menlo,'DejaVu Sans Mono',consolas,'Courier New',monospace\"><span style=\"color: #7fbfbf; text-decoration-color: #7fbfbf\">                         </span><span style=\"color: #000080; text-decoration-color: #000080\">INFO    </span> Using ChromaDB collection: prosocial_zot                                         \n",
       "</pre>\n"
      ],
      "text/plain": [
       "\u001b[2;36m                        \u001b[0m\u001b[2;36m \u001b[0m\u001b[34mINFO    \u001b[0m Using ChromaDB collection: prosocial_zot                                         \n"
      ]
     },
     "metadata": {},
     "output_type": "display_data"
    },
    {
     "data": {
      "text/html": [
       "<pre style=\"white-space:pre;overflow-x:auto;line-height:normal;font-family:Menlo,'DejaVu Sans Mono',consolas,'Courier New',monospace\"><span style=\"color: #7fbfbf; text-decoration-color: #7fbfbf\">                         </span><span style=\"color: #000080; text-decoration-color: #000080\">INFO    </span> 🔄 Auto-sync enabled: every <span style=\"color: #008080; text-decoration-color: #008080; font-weight: bold\">50</span> records OR every <span style=\"color: #008080; text-decoration-color: #008080; font-weight: bold\">10</span> minutes                       \n",
       "</pre>\n"
      ],
      "text/plain": [
       "\u001b[2;36m                        \u001b[0m\u001b[2;36m \u001b[0m\u001b[34mINFO    \u001b[0m 🔄 Auto-sync enabled: every \u001b[1;36m50\u001b[0m records OR every \u001b[1;36m10\u001b[0m minutes                       \n"
      ]
     },
     "metadata": {},
     "output_type": "display_data"
    },
    {
     "data": {
      "text/html": [
       "<pre style=\"white-space:pre;overflow-x:auto;line-height:normal;font-family:Menlo,'DejaVu Sans Mono',consolas,'Courier New',monospace\"><span style=\"color: #7fbfbf; text-decoration-color: #7fbfbf\">                         </span><span style=\"color: #000080; text-decoration-color: #000080\">INFO    </span> 🔍 Deduplication strategy: both                                                  \n",
       "</pre>\n"
      ],
      "text/plain": [
       "\u001b[2;36m                        \u001b[0m\u001b[2;36m \u001b[0m\u001b[34mINFO    \u001b[0m 🔍 Deduplication strategy: both                                                  \n"
      ]
     },
     "metadata": {},
     "output_type": "display_data"
    },
    {
     "data": {
      "text/html": [
       "<pre style=\"white-space:pre;overflow-x:auto;line-height:normal;font-family:Menlo,'DejaVu Sans Mono',consolas,'Courier New',monospace\"><span style=\"color: #7fbfbf; text-decoration-color: #7fbfbf\">                         </span><span style=\"color: #000080; text-decoration-color: #000080\">INFO    </span> 📖 Found existing collection <span style=\"color: #008000; text-decoration-color: #008000\">'prosocial_zot'</span>                                     \n",
       "</pre>\n"
      ],
      "text/plain": [
       "\u001b[2;36m                        \u001b[0m\u001b[2;36m \u001b[0m\u001b[34mINFO    \u001b[0m 📖 Found existing collection \u001b[32m'prosocial_zot'\u001b[0m                                     \n"
      ]
     },
     "metadata": {},
     "output_type": "display_data"
    },
    {
     "data": {
      "text/html": [
       "<pre style=\"white-space:pre;overflow-x:auto;line-height:normal;font-family:Menlo,'DejaVu Sans Mono',consolas,'Courier New',monospace\"><span style=\"color: #7fbfbf; text-decoration-color: #7fbfbf\">[10/08/2025 03:55:41 PM] </span><span style=\"color: #000080; text-decoration-color: #000080\">INFO    </span> ✅ Collection <span style=\"color: #008000; text-decoration-color: #008000\">'prosocial_zot'</span> ready <span style=\"font-weight: bold\">(</span><span style=\"color: #008080; text-decoration-color: #008080; font-weight: bold\">109432</span> embeddings<span style=\"font-weight: bold\">)</span>                          \n",
       "</pre>\n"
      ],
      "text/plain": [
       "\u001b[2;36m[10/08/2025 03:55:41 PM]\u001b[0m\u001b[2;36m \u001b[0m\u001b[34mINFO    \u001b[0m ✅ Collection \u001b[32m'prosocial_zot'\u001b[0m ready \u001b[1m(\u001b[0m\u001b[1;36m109432\u001b[0m embeddings\u001b[1m)\u001b[0m                          \n"
      ]
     },
     "metadata": {},
     "output_type": "display_data"
    },
    {
     "name": "stdout",
     "output_type": "stream",
     "text": [
      "Collection: prosocial_zot\n",
      "Total documents: 109432\n"
     ]
    }
   ],
   "source": [
    "# Create search tool and get collection\n",
    "storage_config = bm.cfg.storage.zotero_vectors\n",
    "search_tool = ChromaDBSearchTool(\n",
    "    type=\"chromadb\",\n",
    "    collection_name=storage_config.collection_name,\n",
    "    persist_directory=storage_config.persist_directory,\n",
    "    embedding_model=storage_config.embedding_model,\n",
    "    dimensionality=storage_config.dimensionality,\n",
    ")\n",
    "\n",
    "await search_tool.ensure_cache_initialized()\n",
    "collection = search_tool.collection\n",
    "\n",
    "print(f\"Collection: {collection.name}\")\n",
    "print(f\"Total documents: {collection.count()}\")\n"
   ]
  },
  {
   "cell_type": "markdown",
   "metadata": {},
   "source": [
    "## 3. Sample a Few Documents to Inspect Metadata"
   ]
  },
  {
   "cell_type": "code",
   "execution_count": 3,
   "metadata": {},
   "outputs": [
    {
     "name": "stdout",
     "output_type": "stream",
     "text": [
      "Sampled 5 documents\n",
      "\n",
      "================================================================================\n",
      "\n",
      "### Document 1\n",
      "\n",
      "Metadata keys: ['processing_run_id', 'zotero_data', 'citation', 'deduplication_strategy', 'created_timestamp', 'uri', 'chunk_index', 'content_hash', 'document_title', 'chunk_type', 'content_type', 'embedding_model', 'title', 'doi_or_url', 'document_id']\n",
      "\n",
      "Full metadata:\n",
      "{'chunk_index': 0,\n",
      " 'chunk_type': 'unknown',\n",
      " 'citation': 'Chipty, T. (2001). Vertical integration, market foreclosure, and '\n",
      "             'consumer welfare in the cable television industry. The American '\n",
      "             'Economic Review, 91(3), 428-453. '\n",
      "             'https://www.jstor.org/stable/2677872',\n",
      " 'content_hash': '2d6d5d6e8c8f1765fe97dd35195ec1d927257decad50edcbae941ca31302d49d',\n",
      " 'content_type': 'unknown',\n",
      " 'created_timestamp': '2025-08-12T07:57:11.684416',\n",
      " 'deduplication_strategy': 'both',\n",
      " 'document_id': 'UFEQ4F94',\n",
      " 'document_title': 'Vertical Integration, Market Foreclosure, and Consumer '\n",
      "                   'Welfare in the Cable Television Industry',\n",
      " 'doi_or_url': 'https://www.jstor.org/stable/2677872',\n",
      " 'embedding_model': 'gemini-embedding-001',\n",
      " 'processing_run_id': '20250812T0756Z-JWC6-nicdev-nic',\n",
      " 'title': 'Vertical Integration, Market Foreclosure, and Consumer Welfare in '\n",
      "          'the Cable Television Industry',\n",
      " 'uri': '/home/nic/.cache/zotero/items/UFEQ4F94.json',\n",
      " 'zotero_data': '{\"key\": \"UFEQ4F94\", \"version\": 48842, \"itemType\": '\n",
      "                '\"journalArticle\", \"title\": \"Vertical Integration, Market '\n",
      "                'Foreclosure, and Consumer Welfare in the Cable Television '\n",
      "                'Industry\", \"creators\": [{\"creatorType\": \"author\", '\n",
      "                '\"firstName\": \"Tasneem\", \"lastName\": \"Chipty\"}], '\n",
      "                '\"abstractNote\": \"I examine the effects of vertical '\n",
      "                'integration between programming and distribution in the cable '\n",
      "                'television industry. I assess the effects of ownership '\n",
      "                'structure on program offerings, prices, and subscriptions, '\n",
      "                'and I compare consumer welfare across integrated and '\n",
      "                'unintegrated markets. The results of this analysis suggest '\n",
      "                'two general conclusions. First, integrated operators tend to '\n",
      "                'exclude rival program services, suggesting that certain '\n",
      "                'program services cannot gain access to the distribution '\n",
      "                'networks of vertically integrated cable system operators. '\n",
      "                'Second, vertical integration does not harm, and may actually '\n",
      "                'benefit, consumers because of the associated efficiency '\n",
      "                'gains.\", \"publicationTitle\": \"The American Economic Review\", '\n",
      "                '\"volume\": \"91\", \"issue\": \"3\", \"pages\": \"428-453\", \"date\": '\n",
      "                '\"2001\", \"series\": \"\", \"seriesTitle\": \"\", \"seriesText\": \"\", '\n",
      "                '\"journalAbbreviation\": \"\", \"language\": \"\", \"DOI\": \"\", \"ISSN\": '\n",
      "                '\"0002-8282\", \"shortTitle\": \"\", \"url\": '\n",
      "                '\"https://www.jstor.org/stable/2677872\", \"accessDate\": '\n",
      "                '\"2025-08-07T04:47:15Z\", \"archive\": \"\", \"archiveLocation\": \"\", '\n",
      "                '\"libraryCatalog\": \"JSTOR\", \"callNumber\": \"\", \"rights\": \"\", '\n",
      "                '\"extra\": \"Publisher: American Economic Association\", \"tags\": '\n",
      "                '[], \"collections\": [\"N4TKI6UW\"], \"relations\": {}, '\n",
      "                '\"dateAdded\": \"2025-08-07T04:47:15Z\", \"dateModified\": '\n",
      "                '\"2025-08-07T04:47:15Z\"}'}\n",
      "\n",
      "Document preview (first 200 chars):\n",
      "Vertical Integration, Market Foreclosure, and Consumer Welfare in the Cable Television Industry\n",
      "Author(s): Tasneem Chipty\n",
      "Source: The American Economic Review, Jun., 2001, Vol. 91, No. 3 (Jun., 2001),...\n",
      "\n",
      "================================================================================\n",
      "\n",
      "### Document 2\n",
      "\n",
      "Metadata keys: ['content_type', 'processing_run_id', 'created_timestamp', 'citation', 'content_hash', 'document_title', 'chunk_index', 'deduplication_strategy', 'chunk_type', 'title', 'uri', 'embedding_model', 'zotero_data', 'doi_or_url', 'document_id']\n",
      "\n",
      "Full metadata:\n",
      "{'chunk_index': 1,\n",
      " 'chunk_type': 'unknown',\n",
      " 'citation': 'Chipty, T. (2001). Vertical integration, market foreclosure, and '\n",
      "             'consumer welfare in the cable television industry. The American '\n",
      "             'Economic Review, 91(3), 428-453. '\n",
      "             'https://www.jstor.org/stable/2677872',\n",
      " 'content_hash': '2d6d5d6e8c8f1765fe97dd35195ec1d927257decad50edcbae941ca31302d49d',\n",
      " 'content_type': 'unknown',\n",
      " 'created_timestamp': '2025-08-12T07:57:11.684416',\n",
      " 'deduplication_strategy': 'both',\n",
      " 'document_id': 'UFEQ4F94',\n",
      " 'document_title': 'Vertical Integration, Market Foreclosure, and Consumer '\n",
      "                   'Welfare in the Cable Television Industry',\n",
      " 'doi_or_url': 'https://www.jstor.org/stable/2677872',\n",
      " 'embedding_model': 'gemini-embedding-001',\n",
      " 'processing_run_id': '20250812T0756Z-JWC6-nicdev-nic',\n",
      " 'title': 'Vertical Integration, Market Foreclosure, and Consumer Welfare in '\n",
      "          'the Cable Television Industry',\n",
      " 'uri': '/home/nic/.cache/zotero/items/UFEQ4F94.json',\n",
      " 'zotero_data': '{\"key\": \"UFEQ4F94\", \"version\": 48842, \"itemType\": '\n",
      "                '\"journalArticle\", \"title\": \"Vertical Integration, Market '\n",
      "                'Foreclosure, and Consumer Welfare in the Cable Television '\n",
      "                'Industry\", \"creators\": [{\"creatorType\": \"author\", '\n",
      "                '\"firstName\": \"Tasneem\", \"lastName\": \"Chipty\"}], '\n",
      "                '\"abstractNote\": \"I examine the effects of vertical '\n",
      "                'integration between programming and distribution in the cable '\n",
      "                'television industry. I assess the effects of ownership '\n",
      "                'structure on program offerings, prices, and subscriptions, '\n",
      "                'and I compare consumer welfare across integrated and '\n",
      "                'unintegrated markets. The results of this analysis suggest '\n",
      "                'two general conclusions. First, integrated operators tend to '\n",
      "                'exclude rival program services, suggesting that certain '\n",
      "                'program services cannot gain access to the distribution '\n",
      "                'networks of vertically integrated cable system operators. '\n",
      "                'Second, vertical integration does not harm, and may actually '\n",
      "                'benefit, consumers because of the associated efficiency '\n",
      "                'gains.\", \"publicationTitle\": \"The American Economic Review\", '\n",
      "                '\"volume\": \"91\", \"issue\": \"3\", \"pages\": \"428-453\", \"date\": '\n",
      "                '\"2001\", \"series\": \"\", \"seriesTitle\": \"\", \"seriesText\": \"\", '\n",
      "                '\"journalAbbreviation\": \"\", \"language\": \"\", \"DOI\": \"\", \"ISSN\": '\n",
      "                '\"0002-8282\", \"shortTitle\": \"\", \"url\": '\n",
      "                '\"https://www.jstor.org/stable/2677872\", \"accessDate\": '\n",
      "                '\"2025-08-07T04:47:15Z\", \"archive\": \"\", \"archiveLocation\": \"\", '\n",
      "                '\"libraryCatalog\": \"JSTOR\", \"callNumber\": \"\", \"rights\": \"\", '\n",
      "                '\"extra\": \"Publisher: American Economic Association\", \"tags\": '\n",
      "                '[], \"collections\": [\"N4TKI6UW\"], \"relations\": {}, '\n",
      "                '\"dateAdded\": \"2025-08-07T04:47:15Z\", \"dateModified\": '\n",
      "                '\"2025-08-07T04:47:15Z\"}'}\n",
      "\n",
      "Document preview (first 200 chars):\n",
      "430 THE AMERICAN ECONOMIC REVIEW JUNE 2001\n",
      "stimulate demand for premium services by offering smaller, cheaper basic cable packages.9'10 Whether consumers are better or worse off in markets served by v...\n",
      "\n",
      "================================================================================\n",
      "\n",
      "### Document 3\n",
      "\n",
      "Metadata keys: ['citation', 'zotero_data', 'created_timestamp', 'document_id', 'embedding_model', 'chunk_index', 'uri', 'content_type', 'processing_run_id', 'doi_or_url', 'document_title', 'content_hash', 'title', 'deduplication_strategy', 'chunk_type']\n",
      "\n",
      "Full metadata:\n",
      "{'chunk_index': 2,\n",
      " 'chunk_type': 'unknown',\n",
      " 'citation': 'Chipty, T. (2001). Vertical integration, market foreclosure, and '\n",
      "             'consumer welfare in the cable television industry. The American '\n",
      "             'Economic Review, 91(3), 428-453. '\n",
      "             'https://www.jstor.org/stable/2677872',\n",
      " 'content_hash': '2d6d5d6e8c8f1765fe97dd35195ec1d927257decad50edcbae941ca31302d49d',\n",
      " 'content_type': 'unknown',\n",
      " 'created_timestamp': '2025-08-12T07:57:11.684416',\n",
      " 'deduplication_strategy': 'both',\n",
      " 'document_id': 'UFEQ4F94',\n",
      " 'document_title': 'Vertical Integration, Market Foreclosure, and Consumer '\n",
      "                   'Welfare in the Cable Television Industry',\n",
      " 'doi_or_url': 'https://www.jstor.org/stable/2677872',\n",
      " 'embedding_model': 'gemini-embedding-001',\n",
      " 'processing_run_id': '20250812T0756Z-JWC6-nicdev-nic',\n",
      " 'title': 'Vertical Integration, Market Foreclosure, and Consumer Welfare in '\n",
      "          'the Cable Television Industry',\n",
      " 'uri': '/home/nic/.cache/zotero/items/UFEQ4F94.json',\n",
      " 'zotero_data': '{\"key\": \"UFEQ4F94\", \"version\": 48842, \"itemType\": '\n",
      "                '\"journalArticle\", \"title\": \"Vertical Integration, Market '\n",
      "                'Foreclosure, and Consumer Welfare in the Cable Television '\n",
      "                'Industry\", \"creators\": [{\"creatorType\": \"author\", '\n",
      "                '\"firstName\": \"Tasneem\", \"lastName\": \"Chipty\"}], '\n",
      "                '\"abstractNote\": \"I examine the effects of vertical '\n",
      "                'integration between programming and distribution in the cable '\n",
      "                'television industry. I assess the effects of ownership '\n",
      "                'structure on program offerings, prices, and subscriptions, '\n",
      "                'and I compare consumer welfare across integrated and '\n",
      "                'unintegrated markets. The results of this analysis suggest '\n",
      "                'two general conclusions. First, integrated operators tend to '\n",
      "                'exclude rival program services, suggesting that certain '\n",
      "                'program services cannot gain access to the distribution '\n",
      "                'networks of vertically integrated cable system operators. '\n",
      "                'Second, vertical integration does not harm, and may actually '\n",
      "                'benefit, consumers because of the associated efficiency '\n",
      "                'gains.\", \"publicationTitle\": \"The American Economic Review\", '\n",
      "                '\"volume\": \"91\", \"issue\": \"3\", \"pages\": \"428-453\", \"date\": '\n",
      "                '\"2001\", \"series\": \"\", \"seriesTitle\": \"\", \"seriesText\": \"\", '\n",
      "                '\"journalAbbreviation\": \"\", \"language\": \"\", \"DOI\": \"\", \"ISSN\": '\n",
      "                '\"0002-8282\", \"shortTitle\": \"\", \"url\": '\n",
      "                '\"https://www.jstor.org/stable/2677872\", \"accessDate\": '\n",
      "                '\"2025-08-07T04:47:15Z\", \"archive\": \"\", \"archiveLocation\": \"\", '\n",
      "                '\"libraryCatalog\": \"JSTOR\", \"callNumber\": \"\", \"rights\": \"\", '\n",
      "                '\"extra\": \"Publisher: American Economic Association\", \"tags\": '\n",
      "                '[], \"collections\": [\"N4TKI6UW\"], \"relations\": {}, '\n",
      "                '\"dateAdded\": \"2025-08-07T04:47:15Z\", \"dateModified\": '\n",
      "                '\"2025-08-07T04:47:15Z\"}'}\n",
      "\n",
      "Document preview (first 200 chars):\n",
      "103.85.36.160 on Thu, 07 Aug 2025 04:47:17 UTC All use subject to https://about.jstor.org/terms\n",
      "\n",
      "\n",
      " VOL. 91 NO. 3 CHIPTY: VERTICAL INTEGRATION IN THE CABLE TELEVISION INDUSTRY 433\n",
      "QVC, whether the oper...\n",
      "\n",
      "================================================================================\n",
      "\n",
      "### Document 4\n",
      "\n",
      "Metadata keys: ['processing_run_id', 'created_timestamp', 'content_hash', 'document_title', 'chunk_index', 'document_id', 'doi_or_url', 'title', 'deduplication_strategy', 'citation', 'chunk_type', 'uri', 'zotero_data', 'content_type', 'embedding_model']\n",
      "\n",
      "Full metadata:\n",
      "{'chunk_index': 3,\n",
      " 'chunk_type': 'unknown',\n",
      " 'citation': 'Chipty, T. (2001). Vertical integration, market foreclosure, and '\n",
      "             'consumer welfare in the cable television industry. The American '\n",
      "             'Economic Review, 91(3), 428-453. '\n",
      "             'https://www.jstor.org/stable/2677872',\n",
      " 'content_hash': '2d6d5d6e8c8f1765fe97dd35195ec1d927257decad50edcbae941ca31302d49d',\n",
      " 'content_type': 'unknown',\n",
      " 'created_timestamp': '2025-08-12T07:57:11.684416',\n",
      " 'deduplication_strategy': 'both',\n",
      " 'document_id': 'UFEQ4F94',\n",
      " 'document_title': 'Vertical Integration, Market Foreclosure, and Consumer '\n",
      "                   'Welfare in the Cable Television Industry',\n",
      " 'doi_or_url': 'https://www.jstor.org/stable/2677872',\n",
      " 'embedding_model': 'gemini-embedding-001',\n",
      " 'processing_run_id': '20250812T0756Z-JWC6-nicdev-nic',\n",
      " 'title': 'Vertical Integration, Market Foreclosure, and Consumer Welfare in '\n",
      "          'the Cable Television Industry',\n",
      " 'uri': '/home/nic/.cache/zotero/items/UFEQ4F94.json',\n",
      " 'zotero_data': '{\"key\": \"UFEQ4F94\", \"version\": 48842, \"itemType\": '\n",
      "                '\"journalArticle\", \"title\": \"Vertical Integration, Market '\n",
      "                'Foreclosure, and Consumer Welfare in the Cable Television '\n",
      "                'Industry\", \"creators\": [{\"creatorType\": \"author\", '\n",
      "                '\"firstName\": \"Tasneem\", \"lastName\": \"Chipty\"}], '\n",
      "                '\"abstractNote\": \"I examine the effects of vertical '\n",
      "                'integration between programming and distribution in the cable '\n",
      "                'television industry. I assess the effects of ownership '\n",
      "                'structure on program offerings, prices, and subscriptions, '\n",
      "                'and I compare consumer welfare across integrated and '\n",
      "                'unintegrated markets. The results of this analysis suggest '\n",
      "                'two general conclusions. First, integrated operators tend to '\n",
      "                'exclude rival program services, suggesting that certain '\n",
      "                'program services cannot gain access to the distribution '\n",
      "                'networks of vertically integrated cable system operators. '\n",
      "                'Second, vertical integration does not harm, and may actually '\n",
      "                'benefit, consumers because of the associated efficiency '\n",
      "                'gains.\", \"publicationTitle\": \"The American Economic Review\", '\n",
      "                '\"volume\": \"91\", \"issue\": \"3\", \"pages\": \"428-453\", \"date\": '\n",
      "                '\"2001\", \"series\": \"\", \"seriesTitle\": \"\", \"seriesText\": \"\", '\n",
      "                '\"journalAbbreviation\": \"\", \"language\": \"\", \"DOI\": \"\", \"ISSN\": '\n",
      "                '\"0002-8282\", \"shortTitle\": \"\", \"url\": '\n",
      "                '\"https://www.jstor.org/stable/2677872\", \"accessDate\": '\n",
      "                '\"2025-08-07T04:47:15Z\", \"archive\": \"\", \"archiveLocation\": \"\", '\n",
      "                '\"libraryCatalog\": \"JSTOR\", \"callNumber\": \"\", \"rights\": \"\", '\n",
      "                '\"extra\": \"Publisher: American Economic Association\", \"tags\": '\n",
      "                '[], \"collections\": [\"N4TKI6UW\"], \"relations\": {}, '\n",
      "                '\"dateAdded\": \"2025-08-07T04:47:15Z\", \"dateModified\": '\n",
      "                '\"2025-08-07T04:47:15Z\"}'}\n",
      "\n",
      "Document preview (first 200 chars):\n",
      "VOL. 91 NO. 3 CHIPTY: VERTICAL INTEGRATION IN THE CABLE TELEVISION INDUSTRY 435\n",
      "els of the decision to offer individual program services, measures of vertical integration depend upon whether the syste...\n",
      "\n",
      "================================================================================\n",
      "\n",
      "### Document 5\n",
      "\n",
      "Metadata keys: ['content_hash', 'chunk_type', 'processing_run_id', 'deduplication_strategy', 'document_title', 'uri', 'zotero_data', 'document_id', 'embedding_model', 'citation', 'chunk_index', 'doi_or_url', 'title', 'content_type', 'created_timestamp']\n",
      "\n",
      "Full metadata:\n",
      "{'chunk_index': 4,\n",
      " 'chunk_type': 'unknown',\n",
      " 'citation': 'Chipty, T. (2001). Vertical integration, market foreclosure, and '\n",
      "             'consumer welfare in the cable television industry. The American '\n",
      "             'Economic Review, 91(3), 428-453. '\n",
      "             'https://www.jstor.org/stable/2677872',\n",
      " 'content_hash': '2d6d5d6e8c8f1765fe97dd35195ec1d927257decad50edcbae941ca31302d49d',\n",
      " 'content_type': 'unknown',\n",
      " 'created_timestamp': '2025-08-12T07:57:11.684416',\n",
      " 'deduplication_strategy': 'both',\n",
      " 'document_id': 'UFEQ4F94',\n",
      " 'document_title': 'Vertical Integration, Market Foreclosure, and Consumer '\n",
      "                   'Welfare in the Cable Television Industry',\n",
      " 'doi_or_url': 'https://www.jstor.org/stable/2677872',\n",
      " 'embedding_model': 'gemini-embedding-001',\n",
      " 'processing_run_id': '20250812T0756Z-JWC6-nicdev-nic',\n",
      " 'title': 'Vertical Integration, Market Foreclosure, and Consumer Welfare in '\n",
      "          'the Cable Television Industry',\n",
      " 'uri': '/home/nic/.cache/zotero/items/UFEQ4F94.json',\n",
      " 'zotero_data': '{\"key\": \"UFEQ4F94\", \"version\": 48842, \"itemType\": '\n",
      "                '\"journalArticle\", \"title\": \"Vertical Integration, Market '\n",
      "                'Foreclosure, and Consumer Welfare in the Cable Television '\n",
      "                'Industry\", \"creators\": [{\"creatorType\": \"author\", '\n",
      "                '\"firstName\": \"Tasneem\", \"lastName\": \"Chipty\"}], '\n",
      "                '\"abstractNote\": \"I examine the effects of vertical '\n",
      "                'integration between programming and distribution in the cable '\n",
      "                'television industry. I assess the effects of ownership '\n",
      "                'structure on program offerings, prices, and subscriptions, '\n",
      "                'and I compare consumer welfare across integrated and '\n",
      "                'unintegrated markets. The results of this analysis suggest '\n",
      "                'two general conclusions. First, integrated operators tend to '\n",
      "                'exclude rival program services, suggesting that certain '\n",
      "                'program services cannot gain access to the distribution '\n",
      "                'networks of vertically integrated cable system operators. '\n",
      "                'Second, vertical integration does not harm, and may actually '\n",
      "                'benefit, consumers because of the associated efficiency '\n",
      "                'gains.\", \"publicationTitle\": \"The American Economic Review\", '\n",
      "                '\"volume\": \"91\", \"issue\": \"3\", \"pages\": \"428-453\", \"date\": '\n",
      "                '\"2001\", \"series\": \"\", \"seriesTitle\": \"\", \"seriesText\": \"\", '\n",
      "                '\"journalAbbreviation\": \"\", \"language\": \"\", \"DOI\": \"\", \"ISSN\": '\n",
      "                '\"0002-8282\", \"shortTitle\": \"\", \"url\": '\n",
      "                '\"https://www.jstor.org/stable/2677872\", \"accessDate\": '\n",
      "                '\"2025-08-07T04:47:15Z\", \"archive\": \"\", \"archiveLocation\": \"\", '\n",
      "                '\"libraryCatalog\": \"JSTOR\", \"callNumber\": \"\", \"rights\": \"\", '\n",
      "                '\"extra\": \"Publisher: American Economic Association\", \"tags\": '\n",
      "                '[], \"collections\": [\"N4TKI6UW\"], \"relations\": {}, '\n",
      "                '\"dateAdded\": \"2025-08-07T04:47:15Z\", \"dateModified\": '\n",
      "                '\"2025-08-07T04:47:15Z\"}'}\n",
      "\n",
      "Document preview (first 200 chars):\n",
      "gram services feature home shopping programming, they have drastically different ownership structures. In 1991, QVC was owned by cable operators TCI and Comcast, while HSN had no partner in cable dist...\n",
      "\n",
      "================================================================================\n"
     ]
    }
   ],
   "source": [
    "# Get a sample of documents with their metadata\n",
    "sample_results = collection.get(limit=5, include=[\"metadatas\", \"documents\"])\n",
    "\n",
    "print(f\"Sampled {len(sample_results['metadatas'])} documents\\n\")\n",
    "print(\"=\" * 80)\n",
    "\n",
    "for i, (meta, doc) in enumerate(\n",
    "    zip(sample_results[\"metadatas\"], sample_results[\"documents\"])\n",
    "):\n",
    "    print(f\"\\n### Document {i + 1}\")\n",
    "    print(f\"\\nMetadata keys: {list(meta.keys())}\")\n",
    "    print(f\"\\nFull metadata:\")\n",
    "    pprint(meta)\n",
    "    print(f\"\\nDocument preview (first 200 chars):\")\n",
    "    print(doc[:200] + \"...\" if len(doc) > 200 else doc)\n",
    "    print(\"\\n\" + \"=\" * 80)\n"
   ]
  },
  {
   "cell_type": "markdown",
   "metadata": {},
   "source": [
    "## 4. Inspect zotero_data Field\n",
    "\n",
    "The `zotero_data` field contains the raw Zotero API response. Let's extract and examine it."
   ]
  },
  {
   "cell_type": "code",
   "execution_count": 4,
   "metadata": {},
   "outputs": [
    {
     "name": "stdout",
     "output_type": "stream",
     "text": [
      "Found zotero_data field!\n",
      "\n",
      "Type: <class 'str'>\n",
      "\n",
      "Raw value (first 500 chars):\n",
      "{\"key\": \"UFEQ4F94\", \"version\": 48842, \"itemType\": \"journalArticle\", \"title\": \"Vertical Integration, Market Foreclosure, and Consumer Welfare in the Cable Television Industry\", \"creators\": [{\"creatorType\": \"author\", \"firstName\": \"Tasneem\", \"lastName\": \"Chipty\"}], \"abstractNote\": \"I examine the effects of vertical integration between programming and distribution in the cable television industry. I assess the effects of ownership structure on program offerings, prices, and subscriptions, and I comp\n",
      "\n",
      "\n",
      "Parsed zotero_data fields:\n",
      "['key',\n",
      " 'version',\n",
      " 'itemType',\n",
      " 'title',\n",
      " 'creators',\n",
      " 'abstractNote',\n",
      " 'publicationTitle',\n",
      " 'volume',\n",
      " 'issue',\n",
      " 'pages',\n",
      " 'date',\n",
      " 'series',\n",
      " 'seriesTitle',\n",
      " 'seriesText',\n",
      " 'journalAbbreviation',\n",
      " 'language',\n",
      " 'DOI',\n",
      " 'ISSN',\n",
      " 'shortTitle',\n",
      " 'url',\n",
      " 'accessDate',\n",
      " 'archive',\n",
      " 'archiveLocation',\n",
      " 'libraryCatalog',\n",
      " 'callNumber',\n",
      " 'rights',\n",
      " 'extra',\n",
      " 'tags',\n",
      " 'collections',\n",
      " 'relations',\n",
      " 'dateAdded',\n",
      " 'dateModified']\n",
      "\n",
      "\n",
      "Full zotero_data:\n",
      "{'DOI': '',\n",
      " 'ISSN': '0002-8282',\n",
      " 'abstractNote': 'I examine the effects of vertical integration between '\n",
      "                 'programming and distribution in the cable television '\n",
      "                 'industry. I assess the effects of ownership structure on '\n",
      "                 'program offerings, prices, and subscriptions, and I compare '\n",
      "                 'consumer welfare across integrated and unintegrated markets. '\n",
      "                 'The results of this analysis suggest two general '\n",
      "                 'conclusions. First, integrated operators tend to exclude '\n",
      "                 'rival program services, suggesting that certain program '\n",
      "                 'services cannot gain access to the distribution networks of '\n",
      "                 'vertically integrated cable system operators. Second, '\n",
      "                 'vertical integration does not harm, and may actually '\n",
      "                 'benefit, consumers because of the associated efficiency '\n",
      "                 'gains.',\n",
      " 'accessDate': '2025-08-07T04:47:15Z',\n",
      " 'archive': '',\n",
      " 'archiveLocation': '',\n",
      " 'callNumber': '',\n",
      " 'collections': ['N4TKI6UW'],\n",
      " 'creators': [{'creatorType': 'author',\n",
      "               'firstName': 'Tasneem',\n",
      "               'lastName': 'Chipty'}],\n",
      " 'date': '2001',\n",
      " 'dateAdded': '2025-08-07T04:47:15Z',\n",
      " 'dateModified': '2025-08-07T04:47:15Z',\n",
      " 'extra': 'Publisher: American Economic Association',\n",
      " 'issue': '3',\n",
      " 'itemType': 'journalArticle',\n",
      " 'journalAbbreviation': '',\n",
      " 'key': 'UFEQ4F94',\n",
      " 'language': '',\n",
      " 'libraryCatalog': 'JSTOR',\n",
      " 'pages': '428-453',\n",
      " 'publicationTitle': 'The American Economic Review',\n",
      " 'relations': {},\n",
      " 'rights': '',\n",
      " 'series': '',\n",
      " 'seriesText': '',\n",
      " 'seriesTitle': '',\n",
      " 'shortTitle': '',\n",
      " 'tags': [],\n",
      " 'title': 'Vertical Integration, Market Foreclosure, and Consumer Welfare in '\n",
      "          'the Cable Television Industry',\n",
      " 'url': 'https://www.jstor.org/stable/2677872',\n",
      " 'version': 48842,\n",
      " 'volume': '91'}\n"
     ]
    }
   ],
   "source": [
    "# Find a document with zotero_data and parse it\n",
    "for meta in sample_results[\"metadatas\"]:\n",
    "    if \"zotero_data\" in meta:\n",
    "        print(\"Found zotero_data field!\\n\")\n",
    "        print(f\"Type: {type(meta['zotero_data'])}\")\n",
    "        print(f\"\\nRaw value (first 500 chars):\")\n",
    "        print(str(meta[\"zotero_data\"])[:500])\n",
    "\n",
    "        # Try to parse if it's a JSON string\n",
    "        if isinstance(meta[\"zotero_data\"], str):\n",
    "            try:\n",
    "                zotero_data = json.loads(meta[\"zotero_data\"])\n",
    "                print(f\"\\n\\nParsed zotero_data fields:\")\n",
    "                pprint(list(zotero_data.keys()))\n",
    "                print(f\"\\n\\nFull zotero_data:\")\n",
    "                pprint(zotero_data)\n",
    "                break\n",
    "            except json.JSONDecodeError as e:\n",
    "                print(f\"Failed to parse as JSON: {e}\")\n",
    "        else:\n",
    "            print(f\"\\n\\nzotero_data fields:\")\n",
    "            pprint(\n",
    "                list(meta[\"zotero_data\"].keys())\n",
    "                if isinstance(meta[\"zotero_data\"], dict)\n",
    "                else \"Not a dict\"\n",
    "            )\n",
    "            break\n",
    "else:\n",
    "    print(\"No zotero_data field found in sample documents\")\n"
   ]
  },
  {
   "cell_type": "markdown",
   "metadata": {},
   "source": [
    "## 5. Analyze All Metadata Fields Across Sample"
   ]
  },
  {
   "cell_type": "code",
   "execution_count": 5,
   "metadata": {},
   "outputs": [
    {
     "name": "stdout",
     "output_type": "stream",
     "text": [
      "Total unique metadata keys across 100 documents:\n",
      "\n",
      "['chunk_index', 'chunk_type', 'citation', 'content_hash', 'content_type', 'created_timestamp', 'deduplication_strategy', 'document_id', 'document_title', 'doi_or_url', 'embedding_model', 'processing_run_id', 'title', 'uri', 'zotero_data']\n",
      "\n",
      "Total: 15 unique keys\n"
     ]
    }
   ],
   "source": [
    "# Get a larger sample to understand metadata distribution\n",
    "larger_sample = collection.get(limit=100, include=[\"metadatas\"])\n",
    "\n",
    "# Collect all unique metadata keys\n",
    "all_metadata_keys = set()\n",
    "for meta in larger_sample[\"metadatas\"]:\n",
    "    all_metadata_keys.update(meta.keys())\n",
    "\n",
    "print(f\"Total unique metadata keys across {len(larger_sample['metadatas'])} documents:\")\n",
    "print(f\"\\n{sorted(all_metadata_keys)}\")\n",
    "print(f\"\\nTotal: {len(all_metadata_keys)} unique keys\")\n"
   ]
  },
  {
   "cell_type": "markdown",
   "metadata": {},
   "source": [
    "## 6. Check What Zotero Fields Are Available\n",
    "\n",
    "Let's check the actual zotero_data to see what fields are available from the Zotero API."
   ]
  },
  {
   "cell_type": "code",
   "execution_count": 6,
   "metadata": {},
   "outputs": [
    {
     "name": "stdout",
     "output_type": "stream",
     "text": [
      "Zotero API fields by item type:\n",
      "\n",
      "\n",
      "BOOKSECTION:\n",
      "  Fields: ['ISBN', 'abstractNote', 'accessDate', 'archive', 'archiveLocation', 'bookTitle', 'callNumber', 'collections', 'creators', 'date', 'dateAdded', 'dateModified', 'edition', 'extra', 'itemType', 'key', 'language', 'libraryCatalog', 'numberOfVolumes', 'pages', 'place', 'publisher', 'relations', 'rights', 'series', 'seriesNumber', 'shortTitle', 'tags', 'title', 'url', 'version', 'volume']\n",
      "  Total: 32 fields\n",
      "\n",
      "JOURNALARTICLE:\n",
      "  Fields: ['DOI', 'ISSN', 'abstractNote', 'accessDate', 'archive', 'archiveLocation', 'callNumber', 'collections', 'creators', 'date', 'dateAdded', 'dateModified', 'extra', 'issue', 'itemType', 'journalAbbreviation', 'key', 'language', 'libraryCatalog', 'pages', 'publicationTitle', 'relations', 'rights', 'series', 'seriesText', 'seriesTitle', 'shortTitle', 'tags', 'title', 'url', 'version', 'volume']\n",
      "  Total: 32 fields\n",
      "\n",
      "PREPRINT:\n",
      "  Fields: ['DOI', 'abstractNote', 'accessDate', 'archive', 'archiveID', 'archiveLocation', 'callNumber', 'citationKey', 'collections', 'creators', 'date', 'dateAdded', 'dateModified', 'extra', 'genre', 'itemType', 'key', 'language', 'libraryCatalog', 'place', 'relations', 'repository', 'rights', 'series', 'seriesNumber', 'shortTitle', 'tags', 'title', 'url', 'version']\n",
      "  Total: 30 fields\n"
     ]
    }
   ],
   "source": [
    "# Collect all zotero_data fields across the sample\n",
    "zotero_fields_by_type = {}\n",
    "\n",
    "for meta in larger_sample[\"metadatas\"]:\n",
    "    if \"zotero_data\" in meta:\n",
    "        try:\n",
    "            # Parse zotero_data\n",
    "            if isinstance(meta[\"zotero_data\"], str):\n",
    "                zotero_data = json.loads(meta[\"zotero_data\"])\n",
    "            else:\n",
    "                zotero_data = meta[\"zotero_data\"]\n",
    "\n",
    "            item_type = zotero_data.get(\"itemType\", \"unknown\")\n",
    "\n",
    "            if item_type not in zotero_fields_by_type:\n",
    "                zotero_fields_by_type[item_type] = set()\n",
    "\n",
    "            zotero_fields_by_type[item_type].update(zotero_data.keys())\n",
    "        except (json.JSONDecodeError, AttributeError, TypeError) as e:\n",
    "            continue\n",
    "\n",
    "print(\"Zotero API fields by item type:\\n\")\n",
    "for item_type, fields in sorted(zotero_fields_by_type.items()):\n",
    "    print(f\"\\n{item_type.upper()}:\")\n",
    "    print(f\"  Fields: {sorted(fields)}\")\n",
    "    print(f\"  Total: {len(fields)} fields\")\n"
   ]
  },
  {
   "cell_type": "markdown",
   "metadata": {},
   "source": [
    "## 7. Compare: What's Stored in ChromaDB vs What's Available\n",
    "\n",
    "Let's identify which Zotero fields are:\n",
    "1. Currently stored as top-level metadata in ChromaDB\n",
    "2. Available in zotero_data but not easily accessible\n",
    "3. Missing important citation fields"
   ]
  },
  {
   "cell_type": "code",
   "execution_count": 7,
   "metadata": {},
   "outputs": [
    {
     "name": "stdout",
     "output_type": "stream",
     "text": [
      "TOP-LEVEL METADATA KEYS (directly accessible):\n",
      "['chunk_index', 'chunk_type', 'citation', 'content_hash', 'content_type', 'created_timestamp', 'deduplication_strategy', 'document_id', 'document_title', 'doi_or_url', 'embedding_model', 'processing_run_id', 'title', 'uri']\n",
      "\n",
      "Total: 14\n",
      "\n",
      "================================================================================\n",
      "\n",
      "IMPORTANT CITATION FIELDS ANALYSIS:\n",
      "\n",
      "Fields that ARE in top-level metadata:\n",
      "['title']\n",
      "\n",
      "Fields that are ONLY in zotero_data (not easily accessible):\n",
      "['DOI', 'ISBN', 'abstractNote', 'collections', 'creators', 'date', 'issue', 'itemType', 'language', 'pages', 'publicationTitle', 'publisher', 'tags', 'url', 'volume']\n",
      "\n",
      "Fields that are MISSING entirely:\n",
      "None\n"
     ]
    }
   ],
   "source": [
    "# Top-level metadata keys (excluding zotero_data itself)\n",
    "top_level_keys = all_metadata_keys - {\"zotero_data\"}\n",
    "\n",
    "print(\"TOP-LEVEL METADATA KEYS (directly accessible):\")\n",
    "print(sorted(top_level_keys))\n",
    "print(f\"\\nTotal: {len(top_level_keys)}\")\n",
    "\n",
    "# Important citation fields that should be easily accessible\n",
    "important_citation_fields = {\n",
    "    \"creators\",  # Authors\n",
    "    \"title\",\n",
    "    \"publicationTitle\",  # Journal name\n",
    "    \"publisher\",\n",
    "    \"date\",\n",
    "    \"DOI\",\n",
    "    \"ISBN\",\n",
    "    \"url\",\n",
    "    \"abstractNote\",\n",
    "    \"itemType\",\n",
    "    \"tags\",\n",
    "    \"collections\",\n",
    "    \"volume\",\n",
    "    \"issue\",\n",
    "    \"pages\",\n",
    "    \"language\",\n",
    "}\n",
    "\n",
    "print(\"\\n\" + \"=\" * 80)\n",
    "print(\"\\nIMPORTANT CITATION FIELDS ANALYSIS:\")\n",
    "print(\"\\nFields that ARE in top-level metadata:\")\n",
    "accessible = important_citation_fields & top_level_keys\n",
    "print(sorted(accessible))\n",
    "\n",
    "print(\"\\nFields that are ONLY in zotero_data (not easily accessible):\")\n",
    "# We need to check what's in zotero_data\n",
    "all_zotero_fields = set()\n",
    "for fields in zotero_fields_by_type.values():\n",
    "    all_zotero_fields.update(fields)\n",
    "\n",
    "buried_fields = important_citation_fields & all_zotero_fields - top_level_keys\n",
    "print(sorted(buried_fields))\n",
    "\n",
    "print(\"\\nFields that are MISSING entirely:\")\n",
    "missing = important_citation_fields - all_zotero_fields - top_level_keys\n",
    "print(sorted(missing) if missing else \"None\")\n"
   ]
  },
  {
   "cell_type": "markdown",
   "metadata": {},
   "source": [
    "## 8. Example: Full Metadata Structure for One Document"
   ]
  },
  {
   "cell_type": "code",
   "execution_count": 8,
   "metadata": {},
   "outputs": [
    {
     "name": "stdout",
     "output_type": "stream",
     "text": [
      "EXAMPLE COMPLETE METADATA STRUCTURE:\n",
      "\n",
      "================================================================================\n",
      "\n",
      "chunk_index:\n",
      "  0\n",
      "\n",
      "chunk_type:\n",
      "  unknown\n",
      "\n",
      "citation:\n",
      "  Chipty, T. (2001). Vertical integration, market foreclosure, and consumer welfare in the cable television industry. The American Economic Review, 91(3), 428-453. https://www.jstor.org/stable/2677872\n",
      "\n",
      "content_hash:\n",
      "  2d6d5d6e8c8f1765fe97dd35195ec1d927257decad50edcbae941ca31302d49d\n",
      "\n",
      "content_type:\n",
      "  unknown\n",
      "\n",
      "created_timestamp:\n",
      "  2025-08-12T07:57:11.684416\n",
      "\n",
      "deduplication_strategy:\n",
      "  both\n",
      "\n",
      "document_id:\n",
      "  UFEQ4F94\n",
      "\n",
      "document_title:\n",
      "  Vertical Integration, Market Foreclosure, and Consumer Welfare in the Cable Television Industry\n",
      "\n",
      "doi_or_url:\n",
      "  https://www.jstor.org/stable/2677872\n",
      "\n",
      "embedding_model:\n",
      "  gemini-embedding-001\n",
      "\n",
      "processing_run_id:\n",
      "  20250812T0756Z-JWC6-nicdev-nic\n",
      "\n",
      "title:\n",
      "  Vertical Integration, Market Foreclosure, and Consumer Welfare in the Cable Television Industry\n",
      "\n",
      "uri:\n",
      "  /home/nic/.cache/zotero/items/UFEQ4F94.json\n",
      "\n",
      "zotero_data:\n",
      "  Type: dict (parsed from JSON string)\n",
      "  Keys: ['DOI', 'ISSN', 'abstractNote', 'accessDate', 'archive', 'archiveLocation', 'callNumber', 'collections', 'creators', 'date', 'dateAdded', 'dateModified', 'extra', 'issue', 'itemType', 'journalAbbreviation', 'key', 'language', 'libraryCatalog', 'pages', 'publicationTitle', 'relations', 'rights', 'series', 'seriesText', 'seriesTitle', 'shortTitle', 'tags', 'title', 'url', 'version', 'volume']\n",
      "  \n",
      "  Sample values:\n",
      "    key: UFEQ4F94\n",
      "    version: 48842\n",
      "    itemType: journalArticle\n",
      "    title: Vertical Integration, Market Foreclosure, and Consumer Welfare in the Cable Television Industry\n",
      "    creators: [{'creatorType': 'author', 'firstName': 'Tasneem', 'lastName': 'Chipty'}]\n"
     ]
    }
   ],
   "source": [
    "# Pick one document and show complete metadata structure\n",
    "example_meta = sample_results[\"metadatas\"][0]\n",
    "\n",
    "print(\"EXAMPLE COMPLETE METADATA STRUCTURE:\\n\")\n",
    "print(\"=\" * 80)\n",
    "for key, value in sorted(example_meta.items()):\n",
    "    print(f\"\\n{key}:\")\n",
    "    if key == \"zotero_data\" and isinstance(value, str):\n",
    "        try:\n",
    "            parsed = json.loads(value)\n",
    "            print(f\"  Type: dict (parsed from JSON string)\")\n",
    "            print(f\"  Keys: {sorted(parsed.keys())}\")\n",
    "            print(f\"  \\n  Sample values:\")\n",
    "            for k in list(parsed.keys())[:5]:  # Show first 5 fields\n",
    "                print(f\"    {k}: {parsed[k]}\")\n",
    "        except:\n",
    "            print(f\"  {str(value)[:200]}...\")\n",
    "    else:\n",
    "        print(f\"  {value}\")\n"
   ]
  },
  {
   "cell_type": "markdown",
   "metadata": {},
   "source": [
    "## 9. Recommendations\n",
    "\n",
    "Based on the analysis above, document:\n",
    "1. Which important citation fields are missing from top-level metadata\n",
    "2. Which fields should be extracted from zotero_data and promoted to top-level\n",
    "3. Any fields that are completely missing from the Zotero API data"
   ]
  },
  {
   "cell_type": "code",
   "execution_count": 9,
   "metadata": {},
   "outputs": [
    {
     "name": "stdout",
     "output_type": "stream",
     "text": [
      "METADATA STORAGE REVIEW SUMMARY\n",
      "================================================================================\n",
      "\n",
      "1. Total ChromaDB documents: 109432\n",
      "2. Unique metadata keys (top-level): 14\n",
      "3. Important citation fields accessible: 1\n",
      "4. Important citation fields buried in zotero_data: 15\n",
      "5. Important citation fields missing: 0\n",
      "\n",
      "================================================================================\n",
      "\n",
      "RECOMMENDATIONS:\n",
      "\n",
      "✅ Extract these fields from zotero_data to top-level metadata:\n",
      "   - DOI\n",
      "   - ISBN\n",
      "   - abstractNote\n",
      "   - collections\n",
      "   - creators\n",
      "   - date\n",
      "   - issue\n",
      "   - itemType\n",
      "   - language\n",
      "   - pages\n",
      "   - publicationTitle\n",
      "   - publisher\n",
      "   - tags\n",
      "   - url\n",
      "   - volume\n",
      "\n",
      "✓ These fields are already accessible:\n",
      "   - title\n"
     ]
    }
   ],
   "source": [
    "# Summary of findings\n",
    "print(\"METADATA STORAGE REVIEW SUMMARY\")\n",
    "print(\"=\" * 80)\n",
    "print(f\"\\n1. Total ChromaDB documents: {collection.count()}\")\n",
    "print(f\"2. Unique metadata keys (top-level): {len(top_level_keys)}\")\n",
    "print(f\"3. Important citation fields accessible: {len(accessible)}\")\n",
    "print(f\"4. Important citation fields buried in zotero_data: {len(buried_fields)}\")\n",
    "print(f\"5. Important citation fields missing: {len(missing)}\")\n",
    "\n",
    "print(\"\\n\" + \"=\" * 80)\n",
    "print(\"\\nRECOMMENDATIONS:\")\n",
    "if buried_fields:\n",
    "    print(\"\\n✅ Extract these fields from zotero_data to top-level metadata:\")\n",
    "    for field in sorted(buried_fields):\n",
    "        print(f\"   - {field}\")\n",
    "\n",
    "if missing:\n",
    "    print(\"\\n⚠️  These fields are not available in current data:\")\n",
    "    for field in sorted(missing):\n",
    "        print(f\"   - {field}\")\n",
    "\n",
    "print(\"\\n✓ These fields are already accessible:\")\n",
    "for field in sorted(accessible):\n",
    "    print(f\"   - {field}\")\n"
   ]
  }
 ],
 "metadata": {
  "kernelspec": {
   "display_name": ".venv",
   "language": "python",
   "name": "python3"
  },
  "language_info": {
   "codemirror_mode": {
    "name": "ipython",
    "version": 3
   },
   "file_extension": ".py",
   "mimetype": "text/x-python",
   "name": "python",
   "nbconvert_exporter": "python",
   "pygments_lexer": "ipython3",
   "version": "3.12.11"
  }
 },
 "nbformat": 4,
 "nbformat_minor": 4
}
